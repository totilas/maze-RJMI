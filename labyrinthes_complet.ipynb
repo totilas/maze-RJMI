{
  "nbformat": 4,
  "nbformat_minor": 0,
  "metadata": {
    "colab": {
      "name": "labyrinthes_complet.ipynb",
      "provenance": [],
      "collapsed_sections": [],
      "toc_visible": true
    },
    "kernelspec": {
      "name": "python3",
      "display_name": "Python 3"
    },
    "language_info": {
      "name": "python"
    }
  },
  "cells": [
    {
      "cell_type": "markdown",
      "metadata": {
        "id": "xLJV8EoGi8wM"
      },
      "source": [
        "# Génération de labyrinthes\n",
        "\n",
        "Dans cet atelier de recherche, nous allons générer des labyrinthes de façon aléatoires.\n",
        "\n",
        "Pour cela, nous devons répondre à plusieurs questions :\n",
        "- comment afficher un labyrinthe ?\n",
        "- qu'est-ce qu'un labyrinthe ?\n",
        "- comment le générer ?\n",
        "- comment en faire de plus originaux ?"
      ]
    },
    {
      "cell_type": "code",
      "metadata": {
        "id": "aHjsEazVlIHS"
      },
      "source": [
        "import matplotlib.pyplot as plt\n",
        "import plotly.express as px\n",
        "import numpy as np\n",
        "import random\n",
        "from PIL import Image"
      ],
      "execution_count": null,
      "outputs": []
    },
    {
      "cell_type": "markdown",
      "metadata": {
        "id": "R69ib9bUjfbL"
      },
      "source": [
        "## Élements de labyinthe -- affichage\n",
        "\n",
        "1. Un labyrinthe peut être vu comme un ensemble de cases, avec des murs entre ces cases\n",
        "2. Un mur devient un passage en prenant les mêmes propriétés qu'une case.\n",
        "\n",
        "### Questions:\n",
        "\n",
        "1. définir la largeur et la hauteur du labyrinthe\n",
        "2. définir une matrice de la bonne taille\n",
        "3. la remplir avec deux valeur différente, une pour les murs et une pour les cases."
      ]
    },
    {
      "cell_type": "code",
      "metadata": {
        "id": "l8I5rWKoi1Jk"
      },
      "source": [
        "# définir hauteur et largeur\n",
        "couleur_case = 0\n",
        "couleur_mur = 1\n",
        "couleur_vue = .5\n",
        "hauteur = 50\n",
        "largeur = 50"
      ],
      "execution_count": null,
      "outputs": []
    },
    {
      "cell_type": "code",
      "metadata": {
        "id": "R5iCtGZWl16a"
      },
      "source": [
        "# fonction qui fait une grille\n",
        "def genere_grille():\n",
        "\thauteur_grille, largeur_grille = 2*hauteur+1, 2*largeur+1\n",
        "\tgrille = np.zeros((hauteur_grille, largeur_grille))\n",
        "\tfor i in range(hauteur+1):\n",
        "\t\tgrille[2*i,:]=np.ones(largeur_grille)\n",
        "\tfor j in range(largeur+1):\n",
        "\t\tgrille[:,2*j]=np.ones(hauteur_grille)\n",
        "\n",
        "\treturn grille"
      ],
      "execution_count": null,
      "outputs": []
    },
    {
      "cell_type": "markdown",
      "metadata": {
        "id": "_WXcL4xdmBF4"
      },
      "source": [
        "## Un premier algorithme: l'algorithme de l'arbre binaire\n",
        "\n",
        "Cet algorithme a l'avantage d'êêtre très simple et très rapide. On peut le décrire de la façon suivante:\n",
        "\n",
        "Énumérer toutes les cases. Pour chacune, choisir au hasard d'ouvrir le mur de droite ou du bas\n",
        "\n",
        "1. Implémenter une fonction pour ouvrir un mur\n",
        "2. Implémenter une fonction qui génére un labyrinthe selon et algorithme\n",
        "3. Afficher le résultat\n"
      ]
    },
    {
      "cell_type": "code",
      "metadata": {
        "id": "7r0cQR8w_7wf"
      },
      "source": [
        "# ouvrir un mur\n",
        "def ouvrir_mur(u,v,grille):\n",
        "\tif not u==v:\n",
        "\t\t\n",
        "\t\tif u[0]==v[0]:\n",
        "\t\t\tassert(abs(v[1]-u[1])==2)\n",
        "\t\t\tgrille[u[0]][int((u[1]+v[1])/2)] = couleur_vue\n",
        "\n",
        "\t\telif u[1] == v[1]:\n",
        "\t\t\tassert(abs(v[0]-u[0])==2)\n",
        "\t\t\tgrille[int((u[0]+v[0])/2)][u[1]] = couleur_vue\n",
        "\n",
        "\t\telse:\n",
        "\t\t\traise ValueError(\"Les deux cases ne sont pas adjacentes\")"
      ],
      "execution_count": null,
      "outputs": []
    },
    {
      "cell_type": "code",
      "metadata": {
        "id": "8_9vr6wp_8Fk"
      },
      "source": [
        "# générer un labyrinthe\n",
        "def case_to_position(case):\n",
        "\t# traduit la case en sa position dans la matrice\n",
        "  assert(0 <= case[0] <= hauteur)\n",
        "  assert(0 <= case[1] <= largeur)\n",
        "  return [1+2*case[0], 1+2*case[1]]\n",
        "\n",
        "def binary_tree(grille):\n",
        "  print(hauteur, largeur)\n",
        "  for i in range(hauteur):\n",
        "    for j in range(largeur):\n",
        "      if i == hauteur-1 and  j == largeur-1:\n",
        "        pass\n",
        "      elif j == largeur-1:\n",
        "        case_grille = case_to_position([i,j])\n",
        "        case_bas_grille = [case_grille[0]+2, case_grille[1]]\n",
        "        ouvrir_mur(case_grille, case_bas_grille, grille)\n",
        "      elif i == hauteur-1:\n",
        "        case_grille = case_to_position([i,j])\n",
        "        case_droite_grille = [case_grille[0], case_grille[1]+2]\n",
        "        ouvrir_mur(case_grille, case_droite_grille, grille)\n",
        "      else:\n",
        "        if np.random.random()<.5:\n",
        "          case_grille = case_to_position([i,j])\n",
        "          case_droite_grille = [case_grille[0], case_grille[1]+2]\n",
        "          ouvrir_mur(case_grille, case_droite_grille, grille)\n",
        "        else:\n",
        "          case_grille = case_to_position([i,j])\n",
        "          case_bas_grille = [case_grille[0]+2, case_grille[1]]\n",
        "          ouvrir_mur(case_grille, case_bas_grille, grille)\n"
      ],
      "execution_count": null,
      "outputs": []
    },
    {
      "cell_type": "code",
      "metadata": {
        "colab": {
          "base_uri": "https://localhost:8080/",
          "height": 718
        },
        "id": "V2D9ENXy5Kee",
        "outputId": "dad2e0c6-d1bd-488d-94fa-cc9d271752ac"
      },
      "source": [
        "grille = genere_grille()\n",
        "binary_tree(grille)\n",
        "plt.figure(figsize=(12,12))\n",
        "plt.imshow(grille)\n",
        "plt.show()"
      ],
      "execution_count": null,
      "outputs": [
        {
          "output_type": "stream",
          "text": [
            "50 50\n"
          ],
          "name": "stdout"
        },
        {
          "output_type": "display_data",
          "data": {
            "image/png": "[encoded data removed]",
            "text/plain": [
              "<Figure size 864x864 with 1 Axes>"
            ]
          },
          "metadata": {
            "tags": [],
            "needs_background": "light"
          }
        }
      ]
    },
    {
      "cell_type": "markdown",
      "metadata": {
        "id": "_UalP5H-ACHN"
      },
      "source": [
        "## Un labyrinthe, c'est un arbre !\n",
        "\n",
        "1. Suivre la présentation.\n",
        "2. Un arbre c'est un graphe qui pour n sommets a exactement n-1 arrêtes, qui est connexe et qui n'a pas de cycle\n",
        "3. (*)  On peut montrer qu'il suffit de vérifier deux des propriétés précédentes pour que la troisième soit vérifiée\n",
        "4. On considère que chaque case est un sommet, et qu'un passage est une arête, ce qui permet d'associer un graphe à un labyrinthe. Alors on peut montrer que le graphe est un arbre si et seulement si dans le labyrinthe associé, il existe toujours un unique chemin entre deux cases. (C'est la définition d'un labyrinthe parfait)"
      ]
    },
    {
      "cell_type": "markdown",
      "metadata": {
        "id": "YRIawWZJGDX0"
      },
      "source": [
        "## L'algorithme de Prim\n",
        "\n",
        "On souhaite créer un labyrinthe, et on sait maintenant que c'est la même chose que de créer un arbre. L'algorithme de Prim est prévu pour calculer un arbre de poids minimum, pour un graphe où chaque arête a un coût de prévu. Ici, on peut juste prendre au hasard, sans utiliser de poids prédéfini.\n",
        "\n",
        "L'algorithme est le suivant:\n",
        "- choisir une case dans le labyrinthe\n",
        "- la marquer comme vue\n",
        "- ajouter les murs adjacents dans un ordre aléatoire dans la liste des murs à traiter\n",
        "- tant que la liste n'est pas vide, prendre un mur. S'il est entre une case pas encore visitée et une case visitée, détruire le mur, marqué la case comme visitée, et ajouter les murs adjacent de cette case.\n",
        "\n",
        "Ici on peut utiliser la grille pour stocker l'information d'une case déjà vue ou non, par exemple en lui attribuant une valeur de 0.5\n",
        "\n",
        "On utilise un liste pour les murs à traiter. En python , c'est assez simple à manipuler:\n",
        "- on peut l'initialiser avec `ma_liste = []`\n",
        "- ma_liste en tant que booléen vaut vrai si et seulement si la liste n'est pas vide\n",
        "- `ma_liste.pop()` retourne le premier élément de la liste"
      ]
    },
    {
      "cell_type": "code",
      "metadata": {
        "id": "E1QodHr2r985"
      },
      "source": [
        "def calcul_murs(case):\n",
        "\tmurs = []\n",
        "\tif case[0] > 0:\n",
        "\t\tmurs.append(([case[0]-1, case[1]], case))\n",
        "\tif case[0] < hauteur-1:\n",
        "\t\tmurs.append(([case[0]+1, case[1]], case))\n",
        "\tif case[1] > 0:\n",
        "\t\tmurs.append(([case[0], case[1]-1], case))\n",
        "\tif case[1] < largeur-1:\n",
        "\t\tmurs.append(([case[0], case[1]+1], case))\n",
        "\trandom.shuffle(murs)\n",
        "\treturn murs\n",
        "\n",
        "\n",
        "# fonction qui modifie la grille pour faire l'algorithme de Prim\n",
        "def creer_labyrinthe(grille, construction=False):\n",
        "\tdebut = [0,0]\n",
        "\tgrille[1,1]=couleur_vue\n",
        "\tpile_a_traiter = calcul_murs(debut)\n",
        "\n",
        "\twhile pile_a_traiter:\n",
        "\t\tmur_actuel = pile_a_traiter.pop()\n",
        "\t\tposition, voisin = mur_actuel[0], mur_actuel[1]\n",
        "\t\tposition_grille, voisin_grille = case_to_position(position), case_to_position(voisin)\n",
        "\t\tif grille[position_grille[0], position_grille[1]] != couleur_vue: \t\n",
        "\t\t\tgrille[position_grille[0], position_grille[1]] = couleur_vue\n",
        "\t\t\touvrir_mur(position_grille, voisin_grille, grille)\n",
        "\t\t\tpile_a_traiter += calcul_murs(position)\n"
      ],
      "execution_count": null,
      "outputs": []
    },
    {
      "cell_type": "markdown",
      "metadata": {
        "id": "WsvaYojiswgT"
      },
      "source": [
        "## Faire l'animation\n",
        "\n",
        "On souhaite voir les différentes étapes de création du labyrinthes. Pour cela, on affiche la grille, puis les changements de celle-ci à chaque étape. Pour cela, on va stocker une copy de la grille a chaque étape dans un liste, puis on va créer une animation à partir de celle-ci.\n",
        "\n",
        "on utilise le module plotly\n",
        "https://plotly.com/python-api-reference/generated/plotly.express.imshow\n",
        "Essayer de comprendre le paramètre `animation_frame` pour l'utilser. "
      ]
    },
    {
      "cell_type": "code",
      "metadata": {
        "id": "t-kQf-jAveIf"
      },
      "source": [
        "# fonction précédente modifiée pour stocker les étapes de la grille\n",
        "def creer_labyrinthe(grille, construction=False):\n",
        "\tdebut = [0,0]\n",
        "\tgrille[1,1]=couleur_vue\n",
        "\tpile_a_traiter = calcul_murs(debut)\n",
        "\n",
        "\twhile pile_a_traiter:\n",
        "\t\tmur_actuel = pile_a_traiter.pop()\n",
        "\t\tposition, voisin = mur_actuel[0], mur_actuel[1]\n",
        "\t\tposition_grille, voisin_grille = case_to_position(position), case_to_position(voisin)\n",
        "\t\tif grille[position_grille[0], position_grille[1]] != couleur_vue: # on a déjà intégré la case au labyrinthe, on saute ce cas\t\n",
        "\t\t\tgrille[position_grille[0], position_grille[1]] = couleur_vue\n",
        "\t\t\touvrir_mur(position_grille, voisin_grille, grille)\n",
        "\t\t\tpile_a_traiter += calcul_murs(position)\n",
        "\t\t\tif construction:\n",
        "\t\t\t\tlabyrinthes.append(grille.copy())"
      ],
      "execution_count": null,
      "outputs": []
    },
    {
      "cell_type": "code",
      "metadata": {
        "colab": {
          "base_uri": "https://localhost:8080/"
        },
        "id": "ltjassHlnXKO",
        "outputId": "28170b55-0431-42f6-c316-35658b2ba18d"
      },
      "source": [
        "!pip install plotly --upgrade"
      ],
      "execution_count": null,
      "outputs": [
        {
          "output_type": "stream",
          "text": [
            "Requirement already up-to-date: plotly in /usr/local/lib/python3.7/dist-packages (4.14.3)\n",
            "Requirement already satisfied, skipping upgrade: six in /usr/local/lib/python3.7/dist-packages (from plotly) (1.15.0)\n",
            "Requirement already satisfied, skipping upgrade: retrying>=1.3.3 in /usr/local/lib/python3.7/dist-packages (from plotly) (1.3.3)\n"
          ],
          "name": "stdout"
        }
      ]
    },
    {
      "cell_type": "code",
      "metadata": {
        "id": "0cbmLoXXveTo"
      },
      "source": [
        "# affichage de l'animation\n",
        "labyrinthes = []\n",
        "\n",
        "grille = genere_grille()\n",
        "labyrinthes.append(grille)\n",
        "creer_labyrinthe(grille, construction=True)\n",
        "\n",
        "labyrinthes = np.array(labyrinthes)\n",
        "\n",
        "fig=px.imshow(labyrinthes, animation_frame=0, color_continuous_scale='Blues')\n",
        "fig.show()"
      ],
      "execution_count": null,
      "outputs": []
    },
    {
      "cell_type": "markdown",
      "metadata": {
        "id": "FxKVIX-WvsY-"
      },
      "source": [
        "## Faire des puzzles de formes différentes\n",
        "\n",
        "Pour l'instant, on a suivi la forme de la grille pour faire notre puzzle, mais on peut très bien dessiner une grille suivant une forme particulière, par exemple en suivant la forme d'une image.\n",
        "\n",
        "Pour cela, choisir une image (une forme en noir et blanc de préférence), et la charger ici. (C'est ici qu'il faut avoir accès à un drive)."
      ]
    },
    {
      "cell_type": "code",
      "metadata": {
        "id": "4b-ebR4DxMxx"
      },
      "source": [
        "image = Image.open('/content/drive/MyDrive/Colab Notebooks/cheval.png')\n"
      ],
      "execution_count": null,
      "outputs": []
    },
    {
      "cell_type": "code",
      "metadata": {
        "id": "iDyEoPuOkim0"
      },
      "source": [
        "new_image = image.resize((hauteur+1, largeur+1))\n",
        "dessin = new_image.convert('L')\n",
        "\n",
        "dessin = np.array(dessin)\n",
        "\n",
        "plt.imshow(dessin)"
      ],
      "execution_count": null,
      "outputs": []
    },
    {
      "cell_type": "code",
      "metadata": {
        "id": "iDmSgQUpyRte"
      },
      "source": [
        "for i in range(len(dessin)):\n",
        "  for j in range(len(dessin[0])):\n",
        "    if dessin[i,j]>100:\n",
        "      dessin[i,j]=1\n",
        "    else:\n",
        "      dessin[i,j]=0\n"
      ],
      "execution_count": null,
      "outputs": []
    },
    {
      "cell_type": "markdown",
      "metadata": {
        "id": "gysdYgh0yh_N"
      },
      "source": [
        "## Modification du code précédent pour suivre le dessin\n",
        "\n",
        "On doit modifier la génération de la grille en rajoutant une vérification de si on est dans l'image ou non.\n",
        "\n",
        "On doit aussi changer l'ajout des murs, pour vériifer qu'il s'agit bien de mur.\n",
        "\n",
        "Ensuite le tour est joué !"
      ]
    },
    {
      "cell_type": "code",
      "metadata": {
        "id": "m4qpHIDBzGou"
      },
      "source": [
        "# modification grille\n",
        "def genere_grille_dessin(hauteur, largeur, dessin):\t\n",
        "\thauteur_grille, largeur_grille = 2*hauteur+1, 2*largeur+1\n",
        "\tgrille = np.zeros((hauteur_grille, largeur_grille))\n",
        "\tfor i in range(hauteur_grille):\n",
        "\t\tfor j in range(largeur_grille):\n",
        "\t\t\tif (i%2==0 or j%2==0) and dessin[int(i/2)][int(j/2)]==0:\n",
        "\t\t\t\tgrille[i][j] = 1\n",
        "\n",
        "\treturn grille"
      ],
      "execution_count": null,
      "outputs": []
    },
    {
      "cell_type": "code",
      "metadata": {
        "id": "-NOrrLo_zG4u"
      },
      "source": [
        "# modification mur\n",
        "def calcul_mur_dessin(case, dessin):\n",
        "\tmurs = []\n",
        "\tif case[0] > 0  and dessin[case[0]-1, case[1]]==0:\n",
        "\t\tmurs.append(([case[0]-1, case[1]], case))\n",
        "\tif case[0] < hauteur-1 and dessin[case[0]+1, case[1]]==0:\n",
        "\t\tmurs.append(([case[0]+1, case[1]], case))\n",
        "\tif case[1] > 0 and dessin[case[0], case[1]-1]==0:\n",
        "\t\tmurs.append(([case[0], case[1]-1], case))\n",
        "\tif case[1] < largeur-1 and dessin[case[0], case[1]+1]==0:\n",
        "\t\tmurs.append(([case[0], case[1]+1], case))\n",
        "\trandom.shuffle(murs)\n",
        "\treturn murs"
      ],
      "execution_count": null,
      "outputs": []
    },
    {
      "cell_type": "code",
      "metadata": {
        "id": "9PLbB-L8zHBE"
      },
      "source": [
        "# Prim modifié\n",
        "def creer_labyrinthe_dessin(grille, dessin, construction=False):\n",
        "\tdebut = [int(hauteur/2),int(largeur/2)]\n",
        "\ti,j = case_to_position(debut)\n",
        "\tgrille[i,j]=couleur_vue\n",
        "\tpile_a_traiter = calcul_mur_dessin(debut, dessin)\n",
        "\n",
        "\twhile pile_a_traiter:\n",
        "\t\tmur_actuel = pile_a_traiter.pop()\n",
        "\t\tposition, voisin = mur_actuel[0], mur_actuel[1]\n",
        "\t\tposition_grille, voisin_grille = case_to_position(position), case_to_position(voisin)\n",
        "\t\tif grille[position_grille[0], position_grille[1]] != couleur_vue:\t\n",
        "\t\t\tgrille[position_grille[0], position_grille[1]] = couleur_vue\n",
        "\t\t\touvrir_mur(position_grille, voisin_grille, grille)\n",
        "\t\t\tpile_a_traiter += calcul_mur_dessin(position, dessin)\n",
        "\t\t\tif construction:\n",
        "\t\t\t\tlabyrinthes.append(grille.copy())"
      ],
      "execution_count": null,
      "outputs": []
    },
    {
      "cell_type": "code",
      "metadata": {
        "id": "uoXGyDN5oehC"
      },
      "source": [
        "grille = genere_grille_dessin(hauteur, largeur, dessin)\n",
        "\n",
        "creer_labyrinthe_dessin(grille, dessin, construction=False)\n",
        "plt.figure(figsize=(10,10))\n",
        "plt.imshow(grille, cmap='gray')"
      ],
      "execution_count": null,
      "outputs": []
    },
    {
      "cell_type": "code",
      "metadata": {
        "id": "v0NAiSLWp37R"
      },
      "source": [
        "grille = np.array(grille)\n",
        "for i in range(len(grille)):\n",
        "\tfor j in range(len(grille[0])):\n",
        "\t\tif grille[i,j]==.5:\n",
        "\t\t\tgrille[i,j]=0\n",
        "\t\telse :\n",
        "\t\t\tgrille[i,j]=1\n"
      ],
      "execution_count": null,
      "outputs": []
    },
    {
      "cell_type": "markdown",
      "metadata": {
        "id": "d65bghLOzNdt"
      },
      "source": [
        "## Pour enregistrer les figures\n",
        "\n",
        "On peut enregister les figures via pyplot (c'est le plus simple mais c'est comme vous voulez !)\n",
        "\n"
      ]
    },
    {
      "cell_type": "code",
      "metadata": {
        "id": "jOJ8Ndjyzi0O",
        "colab": {
          "base_uri": "https://localhost:8080/",
          "height": 248
        },
        "outputId": "5c8c10b2-3392-4e6f-bea7-e66c97e3f261"
      },
      "source": [
        "plt.axis('off')\n",
        "plt.imshow(grille, cmap='Greys')\n",
        "\n",
        "plt.savefig(\"/content/drive/MyDrive/Colab Notebooks/cheval_labyrinthe.png\", dpi=500, bbox_inches='tight')"
      ],
      "execution_count": null,
      "outputs": [
        {
          "output_type": "display_data",
          "data": {
            "image/png": "[encoded data removed]",
            "text/plain": [
              "<Figure size 432x288 with 1 Axes>"
            ]
          },
          "metadata": {
            "tags": [],
            "needs_background": "light"
          }
        }
      ]
    },
    {
      "cell_type": "markdown",
      "metadata": {
        "id": "J9cU29HbPErX"
      },
      "source": [
        "## Pour aller plus loin:\n",
        "\n",
        "- Il existe d'autres algorithmes de génération de labyrinthes, par exemple dans cette vidéo. On peut aussi les implémenter !\n",
        "https://www.youtube.com/watch?v=sVcB8vUFlmU\n",
        "\n",
        "- Il est possible d'afficher la croissance du labyrinthe en changeant la couleur au fur à mesure des cases visitées (il va juste falloir modifier la gestion des cases vues dans l'algorithme) \n",
        "\n",
        "- On peut aussi faire plusieurs labyrinthes pour des images en plusieurs parties : au lieu de commencer au centre de l'image, il faut tester si on est bien dans une case !\n",
        "\n",
        "- On peut aussi choisir deux cases et afficher le chemin solution. Le plus simple est de faire ce qu'on appelle un parcours d'arbre, c'est à peu près le même algorithme que le premier de la vidéo au-dessus.\n",
        "\n",
        "- D'autres idées ?"
      ]
    }
  ]
}